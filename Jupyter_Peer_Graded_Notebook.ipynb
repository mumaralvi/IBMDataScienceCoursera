{
  "nbformat": 4,
  "nbformat_minor": 0,
  "metadata": {
    "colab": {
      "provenance": [],
      "authorship_tag": "ABX9TyNygc/3teQm/wJDO8F3SbCV",
      "include_colab_link": true
    },
    "kernelspec": {
      "name": "python3",
      "display_name": "Python 3"
    },
    "language_info": {
      "name": "python"
    }
  },
  "cells": [
    {
      "cell_type": "markdown",
      "metadata": {
        "id": "view-in-github",
        "colab_type": "text"
      },
      "source": [
        "<a href=\"https://colab.research.google.com/github/mumaralvi/IBMDataScienceCoursera/blob/main/Jupyter_Peer_Graded_Notebook.ipynb\" target=\"_parent\"><img src=\"https://colab.research.google.com/assets/colab-badge.svg\" alt=\"Open In Colab\"/></a>"
      ]
    },
    {
      "cell_type": "markdown",
      "source": [
        "# Jupyter Peer-Graded Notebook"
      ],
      "metadata": {
        "id": "82QXT_wV46IW"
      }
    },
    {
      "cell_type": "markdown",
      "source": [
        "### Introduction:\n",
        "\n",
        "#### Muhammad Umar Alvi\n",
        "\n",
        "This Jupyter Notebook is written in fulfilment of the requirements of the Coursera deliverable \"Peer-Reviewed Assessment\"."
      ],
      "metadata": {
        "id": "rEU1kKbf5GEI"
      }
    },
    {
      "cell_type": "markdown",
      "source": [
        "### List of Data Science Languages:\n",
        "\n",
        "* Julia - Another purpose-built programming language specifically designed for data analysis and scientific computing, renowned for its efficiency.\n",
        "* Python - commonly used in the fields of data analysis, data science and machine learning. Python supports data manipulation libraries such as Pandas alongside visualisation libraries such as Matplotlib and Seaborn\n",
        "* R - very popular programming language specifically designed for data science applications, commonly used in healthcare and other data-heavy fields.\n",
        "* SQL (inc. MySQL, MariaDB, PostgreSQL, SQLite) - A programming language developed for the querying of relational databases, essential for the storage and manipulation of data in data science projects.\n",
        "* Scala - Commonly used in big data processing and distributed systems, Scala is a multiparadigm language which combines functional programming with object-oriented programming."
      ],
      "metadata": {
        "id": "4xX0Do7-5Ssv"
      }
    },
    {
      "cell_type": "markdown",
      "source": [
        "### List of Data Science Libraries:\n",
        "\n",
        "There are a number of libraries which are commonly used in the field of data science, for data manipulation, processing, visualisation and deployment of machine learning algorithms.\n",
        "\n",
        "These include:\n",
        "\n",
        "#### Python:\n",
        "* **BeautifulSoup** is a web scraping library in Python for the scraping of data from websites via URLs.\n",
        "* **Keras**, originally developed as a standalone library, is used by **Tensorflow** as an open-source neural network library for the development of transformer models.\n",
        "* **Matplotlib** is a low-level graph plotting Python library which is used to build a variety of visualisations, including static, animated and interactive visualisations.\n",
        "* **NumPy** is a library which allows for the creation (or importation) of multidimensional **arrays** or **matrices** as well as their manipulation.\n",
        "* **Pandas** is a foundational data analysis library in Python, which allows for the creation (or importation) of datasets in the form of **DataFrames**. Pandas also supports the importation of CSV (or XLSX) files, in addition to data stored in JSON (JavaScript Object Notation), TXT (text files), HTML pages, SQL files, XML and many more.\n",
        "* **Pytorch** is a Python library for the deploment of transformers, or neural network architectures which process an input sequence into an output sequence. Based on the **Torch** library, it is used in applications such as computer vision and natural language processing.\n",
        "* **SciPy**, based on NumPy, is a specialised Python library for technical and scientific computing, which is used to solve scientific and technical problems.\n",
        "* **Seaborn** is based on Matplotlib and provides a high-level interface for data visualisation.\n",
        "* **Scikit-learn** is a Python library for machine learning, which supports a range of common machine learning tasks such as linear/logistic regression, Pearson product-moment correlation (PMCC) and others.\n",
        "* **Tensorflow** is a Python library for the implementation of artificial intelligence and machine learning, and supports transformers.\n",
        "\n",
        "#### R:\n",
        "\n",
        "* **caret** in R is used for classification and regression training of machine learning models, providing a unified interface for building and evaluating machine learning models, alongside feature selection, model training and hyperparameter tuning, making it valuable for applying machine learning algorithms to your data.\n",
        "* **dplyr** in R is equivalent to **Pandas** in Python, providing a clear, concise syntax for data manipulation tasks. It is used for subsetting, transforming and summarising data frames.\n",
        "* **ggplot2** is a powerful data visualisation package, used for creating a wide range of aesthetically pleasing, customisable plots.\n",
        "* **lubridate** allows for the parsing, manipulation and formatting of times and dates in R.\n",
        "* **purrr** is an R package which provides a functional toolkit for iterating and manipulating data structures. It facilitates efficient, yet elegant data processing workflows, making it invaluable for data science tasks.\n",
        "* **randomForest** is a library in R for deployment of decision tree-based machine learning models, employing random forests which aggregate predictions from multiple decision trees. This makes it particularly useful in classification and regression problems.\n",
        "* **stringr** is an R library designed for text mining and string manipulation, including functions for pattern matching, string extraction and replacement amongst others. It is particularly useful when working with unstructured text data or performing text analysis tasks such as natural language processing.\n",
        "* **shiny** is an R package allowing for the creation and deployment of **web applications** to create dashboards, visualisations and deploy custom tools without the need for extensive web development knowledge.\n",
        "* **tidymodels** is a collection of R packages allowing for the streamlining of machine learning tasks, such as data preprocessing, model specification, feature selection and model evaluation, allowing for the construction of machine learning pipelines."
      ],
      "metadata": {
        "id": "7fNENSgR6iwH"
      }
    },
    {
      "cell_type": "markdown",
      "source": [
        "### List of Data Science Tools:\n",
        "\n",
        "* **Anaconda** is a distribution of Python prepackaged with essential libraries and packages for data science and  machine learning, including Pandas, Matplotlib, Numpy, Scipy and others.\n",
        "* **Excel** is a spreadsheet application developed by Microsoft, known for its ubiquitious XLSX format spreadsheets. Excel allows for the deployment of **algorithms** and **equations** in its spreadsheets; spreadsheets can have multiple **tables** within them as well. Excel also supports CSV files as well.\n",
        "* **JASP** is an open-source competitor to SPSS developed for scientific statistics, built upon the R programming language.\n",
        "* **Power BI** is a rival to *Tableau* developed by Microsoft which is another data visualisation and manipulation software package, providing a GUI for data scientists to interact with databases and other data sources.\n",
        "* **Project Jupyter** is a project to provide platform- and language- agnostic tools for interactive, collaborative computing across multiple programming languages, such as Python, R and others, including Julia. The most famous of their products is **Jupyter Notebook**; a Jupyter Notebook is JSON-based and allows for the running of code over the Web in a self-contained sandbox, run on top of a kernel (such as Pyolite).\n",
        "* **RStudio** is an integrated development environment (or IDE) specifically designed for the deployment of the R programming language, however supports Python as well.\n",
        "* **SPSS Statistics** is a general-purpose statistical software package developed by IBM for data management, visualisation and statistics.\n",
        "* **Tableau** is a general-purpose data science application for the manipulation and visualisation of data, supporting SQL databases as well as XLSX and CSV files.\n"
      ],
      "metadata": {
        "id": "VuPuNonFAsCN"
      }
    },
    {
      "cell_type": "markdown",
      "source": [
        "### Introduction to Arithmetic Expressions:\n",
        "\n",
        "Arithmetic expressions are combinations of numbers and operators, such as addition, subtraction, multiplication, and division, which compute a given value. They are fundamental in programming and mathematics for performing calculations. Below are some examples:\n",
        "\n",
        "- `2 + 3` equals 5 (addition)\n",
        "- `4 * 5` equals 20 (multiplication)\n",
        "- `10 - 7` equals 3 (subtraction)\n",
        "- `8 / 2` equals 4 (division)"
      ],
      "metadata": {
        "id": "oZ_I5NvXDxxa"
      }
    },
    {
      "cell_type": "code",
      "source": [
        "# Code cell to multiply and add numbers\n",
        "\n",
        "num = 2 * 4\n",
        "print(\"This is the result of 2 * 4: \", str(num))\n",
        "\n",
        "num_sum = 2 + 4\n",
        "print(\"This is the result of 2 + 4: \", str(num_sum))"
      ],
      "metadata": {
        "colab": {
          "base_uri": "https://localhost:8080/"
        },
        "id": "djTOyzdw6aq9",
        "outputId": "ac03eac7-b472-4185-a4e9-89b2cfe666ef"
      },
      "execution_count": 1,
      "outputs": [
        {
          "output_type": "stream",
          "name": "stdout",
          "text": [
            "This is the result of 2 * 4:  8\n",
            "This is the result of 2 + 4:  6\n"
          ]
        }
      ]
    },
    {
      "cell_type": "code",
      "source": [
        "# Code cell to convert minutes into hours\n",
        "\n",
        "mins = 120\n",
        "\n",
        "hours = mins/60\n",
        "\n",
        "print(\"Here is the value of 120 minutes in hours: \" + str(hours) + \" (2 hours)\")"
      ],
      "metadata": {
        "colab": {
          "base_uri": "https://localhost:8080/"
        },
        "id": "Gu-AvgkyEntm",
        "outputId": "17ff41e9-956c-4720-a95b-b11678c2946b"
      },
      "execution_count": 2,
      "outputs": [
        {
          "output_type": "stream",
          "name": "stdout",
          "text": [
            "Here is the value of 120 minutes in hours: 2.0 (2 hours)\n"
          ]
        }
      ]
    },
    {
      "cell_type": "markdown",
      "source": [
        "### Objectives:\n",
        "\n",
        "- Learn how to create and format markdown cells in a Jupyter Notebook.\n",
        "- Understand how to write and execute Python code in code cells.\n",
        "- Practice basic arithmetic operations in Python, such multiplication and addition.\n",
        "- Perform unit conversions, for example converting minutes to hours, using Python.\n",
        "- Demonstrate clear documentation and organisation in this Jupyter Notebook."
      ],
      "metadata": {
        "id": "e-y40ZSTFD_H"
      }
    },
    {
      "cell_type": "markdown",
      "source": [
        "### Author:\n",
        "\n",
        "The author of this notebook is the Coursera student **Muhammad Umar Alvi**."
      ],
      "metadata": {
        "id": "T4ZqyNBuFSKZ"
      }
    },
    {
      "cell_type": "code",
      "source": [],
      "metadata": {
        "id": "i9QPmTlxE5lj"
      },
      "execution_count": null,
      "outputs": []
    }
  ]
}