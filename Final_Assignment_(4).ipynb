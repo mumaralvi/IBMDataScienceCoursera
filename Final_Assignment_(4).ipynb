{
  "cells": [
    {
      "cell_type": "markdown",
      "metadata": {
        "id": "view-in-github",
        "colab_type": "text"
      },
      "source": [
        "<a href=\"https://colab.research.google.com/github/mumaralvi/IBMDataScienceCoursera/blob/main/Final_Assignment_(4).ipynb\" target=\"_parent\"><img src=\"https://colab.research.google.com/assets/colab-badge.svg\" alt=\"Open In Colab\"/></a>"
      ]
    },
    {
      "cell_type": "markdown",
      "metadata": {
        "id": "YtZBv8WtcKOa"
      },
      "source": [
        "<p style=\"text-align:center\">\n",
        "    <a href=\"https://skills.network/?utm_medium=Exinfluencer&utm_source=Exinfluencer&utm_content=000026UJ&utm_term=10006555&utm_id=NA-SkillsNetwork-Channel-SkillsNetworkCoursesIBMDeveloperSkillsNetworkPY0220ENSkillsNetwork900-2022-01-01\" target=\"_blank\">\n",
        "    <img src=\"https://cf-courses-data.s3.us.cloud-object-storage.appdomain.cloud/assets/logos/SN_web_lightmode.png\" width=\"200\" alt=\"Skills Network Logo\">\n",
        "    </a>\n",
        "</p>\n"
      ]
    },
    {
      "cell_type": "markdown",
      "metadata": {
        "id": "Kut1HaUrcKOb"
      },
      "source": [
        "<h1>Extracting and Visualizing Stock Data</h1>\n",
        "<h2>Description</h2>\n"
      ]
    },
    {
      "cell_type": "markdown",
      "metadata": {
        "id": "I5tCCB1YcKOb"
      },
      "source": [
        "Extracting essential data from a dataset and displaying it is a necessary part of data science; therefore individuals can make correct decisions based on the data. In this assignment, you will extract some stock data, you will then display this data in a graph.\n"
      ]
    },
    {
      "cell_type": "markdown",
      "metadata": {
        "id": "uUCOcxzHcKOb"
      },
      "source": [
        "<h2>Table of Contents</h2>\n",
        "<div class=\"alert alert-block alert-info\" style=\"margin-top: 20px\">\n",
        "    <ul>\n",
        "        <li>Define a Function that Makes a Graph</li>\n",
        "        <li>Question 1: Use yfinance to Extract Stock Data</li>\n",
        "        <li>Question 2: Use Webscraping to Extract Tesla Revenue Data</li>\n",
        "        <li>Question 3: Use yfinance to Extract Stock Data</li>\n",
        "        <li>Question 4: Use Webscraping to Extract GME Revenue Data</li>\n",
        "        <li>Question 5: Plot Tesla Stock Graph</li>\n",
        "        <li>Question 6: Plot GameStop Stock Graph</li>\n",
        "    </ul>\n",
        "<p>\n",
        "    Estimated Time Needed: <strong>30 min</strong></p>\n",
        "</div>\n",
        "\n",
        "<hr>\n"
      ]
    },
    {
      "cell_type": "markdown",
      "metadata": {
        "id": "8M2A1UHVcKOb"
      },
      "source": [
        "***Note***:- If you are working Locally using anaconda, please uncomment the following code and execute it.\n",
        "Use the version as per your python version.\n"
      ]
    },
    {
      "cell_type": "code",
      "execution_count": null,
      "metadata": {
        "id": "-8REChYscKOb",
        "outputId": "2a0f4e22-9826-4512-8e57-b786a0930589"
      },
      "outputs": [
        {
          "name": "stdout",
          "output_type": "stream",
          "text": [
            "Requirement already satisfied: yfinance in /opt/conda/lib/python3.12/site-packages (0.2.55)\n",
            "Requirement already satisfied: pandas>=1.3.0 in /opt/conda/lib/python3.12/site-packages (from yfinance) (2.2.3)\n",
            "Requirement already satisfied: numpy>=1.16.5 in /opt/conda/lib/python3.12/site-packages (from yfinance) (2.2.4)\n",
            "Requirement already satisfied: requests>=2.31 in /opt/conda/lib/python3.12/site-packages (from yfinance) (2.32.3)\n",
            "Requirement already satisfied: multitasking>=0.0.7 in /opt/conda/lib/python3.12/site-packages (from yfinance) (0.0.11)\n",
            "Requirement already satisfied: platformdirs>=2.0.0 in /opt/conda/lib/python3.12/site-packages (from yfinance) (4.3.6)\n",
            "Requirement already satisfied: pytz>=2022.5 in /opt/conda/lib/python3.12/site-packages (from yfinance) (2024.2)\n",
            "Requirement already satisfied: frozendict>=2.3.4 in /opt/conda/lib/python3.12/site-packages (from yfinance) (2.4.6)\n",
            "Requirement already satisfied: peewee>=3.16.2 in /opt/conda/lib/python3.12/site-packages (from yfinance) (3.17.9)\n",
            "Requirement already satisfied: beautifulsoup4>=4.11.1 in /opt/conda/lib/python3.12/site-packages (from yfinance) (4.12.3)\n",
            "Requirement already satisfied: soupsieve>1.2 in /opt/conda/lib/python3.12/site-packages (from beautifulsoup4>=4.11.1->yfinance) (2.5)\n",
            "Requirement already satisfied: python-dateutil>=2.8.2 in /opt/conda/lib/python3.12/site-packages (from pandas>=1.3.0->yfinance) (2.9.0.post0)\n",
            "Requirement already satisfied: tzdata>=2022.7 in /opt/conda/lib/python3.12/site-packages (from pandas>=1.3.0->yfinance) (2025.2)\n",
            "Requirement already satisfied: charset_normalizer<4,>=2 in /opt/conda/lib/python3.12/site-packages (from requests>=2.31->yfinance) (3.4.1)\n",
            "Requirement already satisfied: idna<4,>=2.5 in /opt/conda/lib/python3.12/site-packages (from requests>=2.31->yfinance) (3.10)\n",
            "Requirement already satisfied: urllib3<3,>=1.21.1 in /opt/conda/lib/python3.12/site-packages (from requests>=2.31->yfinance) (2.3.0)\n",
            "Requirement already satisfied: certifi>=2017.4.17 in /opt/conda/lib/python3.12/site-packages (from requests>=2.31->yfinance) (2024.12.14)\n",
            "Requirement already satisfied: six>=1.5 in /opt/conda/lib/python3.12/site-packages (from python-dateutil>=2.8.2->pandas>=1.3.0->yfinance) (1.17.0)\n",
            "Requirement already satisfied: bs4 in /opt/conda/lib/python3.12/site-packages (0.0.2)\n",
            "Requirement already satisfied: beautifulsoup4 in /opt/conda/lib/python3.12/site-packages (from bs4) (4.12.3)\n",
            "Requirement already satisfied: soupsieve>1.2 in /opt/conda/lib/python3.12/site-packages (from beautifulsoup4->bs4) (2.5)\n",
            "Requirement already satisfied: nbformat in /opt/conda/lib/python3.12/site-packages (5.10.4)\n",
            "Requirement already satisfied: fastjsonschema>=2.15 in /opt/conda/lib/python3.12/site-packages (from nbformat) (2.21.1)\n",
            "Requirement already satisfied: jsonschema>=2.6 in /opt/conda/lib/python3.12/site-packages (from nbformat) (4.23.0)\n",
            "Requirement already satisfied: jupyter-core!=5.0.*,>=4.12 in /opt/conda/lib/python3.12/site-packages (from nbformat) (5.7.2)\n",
            "Requirement already satisfied: traitlets>=5.1 in /opt/conda/lib/python3.12/site-packages (from nbformat) (5.14.3)\n",
            "Requirement already satisfied: attrs>=22.2.0 in /opt/conda/lib/python3.12/site-packages (from jsonschema>=2.6->nbformat) (25.1.0)\n",
            "Requirement already satisfied: jsonschema-specifications>=2023.03.6 in /opt/conda/lib/python3.12/site-packages (from jsonschema>=2.6->nbformat) (2024.10.1)\n",
            "Requirement already satisfied: referencing>=0.28.4 in /opt/conda/lib/python3.12/site-packages (from jsonschema>=2.6->nbformat) (0.36.2)\n",
            "Requirement already satisfied: rpds-py>=0.7.1 in /opt/conda/lib/python3.12/site-packages (from jsonschema>=2.6->nbformat) (0.22.3)\n",
            "Requirement already satisfied: platformdirs>=2.5 in /opt/conda/lib/python3.12/site-packages (from jupyter-core!=5.0.*,>=4.12->nbformat) (4.3.6)\n",
            "Requirement already satisfied: typing-extensions>=4.4.0 in /opt/conda/lib/python3.12/site-packages (from referencing>=0.28.4->jsonschema>=2.6->nbformat) (4.12.2)\n",
            "Requirement already satisfied: plotly in /opt/conda/lib/python3.12/site-packages (6.0.1)\n",
            "Requirement already satisfied: narwhals>=1.15.1 in /opt/conda/lib/python3.12/site-packages (from plotly) (1.35.0)\n",
            "Requirement already satisfied: packaging in /opt/conda/lib/python3.12/site-packages (from plotly) (24.2)\n"
          ]
        }
      ],
      "source": [
        "!pip install yfinance\n",
        "!pip install bs4\n",
        "!pip install nbformat\n",
        "!pip install --upgrade plotly"
      ]
    },
    {
      "cell_type": "code",
      "execution_count": null,
      "metadata": {
        "id": "OJv4-glBcKOc"
      },
      "outputs": [],
      "source": [
        "import yfinance as yf\n",
        "import pandas as pd\n",
        "import requests\n",
        "from bs4 import BeautifulSoup\n",
        "import plotly.graph_objects as go\n",
        "from plotly.subplots import make_subplots"
      ]
    },
    {
      "cell_type": "code",
      "execution_count": null,
      "metadata": {
        "id": "TpiHSh3pcKOc"
      },
      "outputs": [],
      "source": [
        "import plotly.io as pio\n",
        "pio.renderers.default = \"iframe\""
      ]
    },
    {
      "cell_type": "markdown",
      "metadata": {
        "id": "EE0FGJDScKOc"
      },
      "source": [
        "In Python, you can ignore warnings using the warnings module. You can use the filterwarnings function to filter or ignore specific warning messages or categories.\n"
      ]
    },
    {
      "cell_type": "code",
      "execution_count": null,
      "metadata": {
        "id": "04W5oZn6cKOc"
      },
      "outputs": [],
      "source": [
        "import warnings\n",
        "# Ignore all warnings\n",
        "warnings.filterwarnings(\"ignore\", category=FutureWarning)"
      ]
    },
    {
      "cell_type": "markdown",
      "metadata": {
        "id": "x9yjdK5LcKOc"
      },
      "source": [
        "## Define Graphing Function\n"
      ]
    },
    {
      "cell_type": "markdown",
      "metadata": {
        "id": "kaYSzDd9cKOc"
      },
      "source": [
        "In this section, we define the function `make_graph`. **You don't have to know how the function works, you should only care about the inputs. It takes a dataframe with stock data (dataframe must contain Date and Close columns), a dataframe with revenue data (dataframe must contain Date and Revenue columns), and the name of the stock.**\n"
      ]
    },
    {
      "cell_type": "code",
      "execution_count": null,
      "metadata": {
        "id": "wCY09GD7cKOc"
      },
      "outputs": [],
      "source": [
        "def make_graph(stock_data, revenue_data, stock):\n",
        "    fig = make_subplots(rows=2, cols=1, shared_xaxes=True, subplot_titles=(\"Historical Share Price\", \"Historical Revenue\"), vertical_spacing = .3)\n",
        "    stock_data_specific = stock_data[stock_data.Date <= '2021-06-14']\n",
        "    revenue_data_specific = revenue_data[revenue_data.Date <= '2021-04-30']\n",
        "    fig.add_trace(go.Scatter(x=pd.to_datetime(stock_data_specific.Date, infer_datetime_format=True), y=stock_data_specific.Close.astype(\"float\"), name=\"Share Price\"), row=1, col=1)\n",
        "    fig.add_trace(go.Scatter(x=pd.to_datetime(revenue_data_specific.Date, infer_datetime_format=True), y=revenue_data_specific.Revenue.astype(\"float\"), name=\"Revenue\"), row=2, col=1)\n",
        "    fig.update_xaxes(title_text=\"Date\", row=1, col=1)\n",
        "    fig.update_xaxes(title_text=\"Date\", row=2, col=1)\n",
        "    fig.update_yaxes(title_text=\"Price ($US)\", row=1, col=1)\n",
        "    fig.update_yaxes(title_text=\"Revenue ($US Millions)\", row=2, col=1)\n",
        "    fig.update_layout(showlegend=False,\n",
        "    height=900,\n",
        "    title=stock,\n",
        "    xaxis_rangeslider_visible=True)\n",
        "    fig.show()\n",
        "    from IPython.display import display, HTML\n",
        "    fig_html = fig.to_html()\n",
        "    display(HTML(fig_html))"
      ]
    },
    {
      "cell_type": "markdown",
      "metadata": {
        "id": "Dbo0J8smcKOc"
      },
      "source": [
        "Use the make_graph function that we’ve already defined. You’ll need to invoke it in questions 5 and 6 to display the graphs and create the dashboard.\n",
        "> **Note: You don’t need to redefine the function for plotting graphs anywhere else in this notebook; just use the existing function.**\n"
      ]
    },
    {
      "cell_type": "markdown",
      "metadata": {
        "id": "S4MzcubdcKOc"
      },
      "source": [
        "## Question 1: Use yfinance to Extract Stock Data\n"
      ]
    },
    {
      "cell_type": "markdown",
      "metadata": {
        "id": "2Nciwi70cKOd"
      },
      "source": [
        "Using the `Ticker` function enter the ticker symbol of the stock we want to extract data on to create a ticker object. The stock is Tesla and its ticker symbol is `TSLA`.\n"
      ]
    },
    {
      "cell_type": "code",
      "execution_count": null,
      "metadata": {
        "id": "DtXYH9KjcKOd"
      },
      "outputs": [],
      "source": [
        "tesla = yf.Ticker(\"TSLA\")"
      ]
    },
    {
      "cell_type": "markdown",
      "metadata": {
        "id": "u_L3EcF0cKOd"
      },
      "source": [
        "Using the ticker object and the function `history` extract stock information and save it in a dataframe named `tesla_data`. Set the `period` parameter to ` \"max\" ` so we get information for the maximum amount of time.\n"
      ]
    },
    {
      "cell_type": "code",
      "execution_count": null,
      "metadata": {
        "id": "1tGdBAVycKOd"
      },
      "outputs": [],
      "source": [
        "tesla_data = tesla.history(period=\"max\")"
      ]
    },
    {
      "cell_type": "markdown",
      "metadata": {
        "id": "UujtQg_icKOd"
      },
      "source": [
        "**Reset the index** using the `reset_index(inplace=True)` function on the tesla_data DataFrame and display the first five rows of the `tesla_data` dataframe using the `head` function. Take a screenshot of the results and code from the beginning of Question 1 to the results below.\n"
      ]
    },
    {
      "cell_type": "code",
      "execution_count": null,
      "metadata": {
        "id": "uDI4vCcscKOd"
      },
      "outputs": [],
      "source": [
        "tesla_data.reset_index(inplace=True)"
      ]
    },
    {
      "cell_type": "markdown",
      "metadata": {
        "id": "XS12tO77cKOd"
      },
      "source": [
        "## Question 2: Use Webscraping to Extract Tesla Revenue Data\n"
      ]
    },
    {
      "cell_type": "markdown",
      "metadata": {
        "id": "Kp-BUq_FcKOd"
      },
      "source": [
        "Use the `requests` library to download the webpage https://cf-courses-data.s3.us.cloud-object-storage.appdomain.cloud/IBMDeveloperSkillsNetwork-PY0220EN-SkillsNetwork/labs/project/revenue.htm Save the text of the response as a variable named `html_data`.\n"
      ]
    },
    {
      "cell_type": "code",
      "execution_count": null,
      "metadata": {
        "id": "1mRS5MSncKOd"
      },
      "outputs": [],
      "source": [
        "url = \"https://cf-courses-data.s3.us.cloud-object-storage.appdomain.cloud/IBMDeveloperSkillsNetwork-PY0220EN-SkillsNetwork/labs/project/revenue.htm\"\n",
        "\n",
        "html_data = requests.get(url).text"
      ]
    },
    {
      "cell_type": "markdown",
      "metadata": {
        "id": "IIKE78XBcKOd"
      },
      "source": [
        "Parse the html data using `beautiful_soup` using parser i.e `html5lib` or `html.parser`.\n"
      ]
    },
    {
      "cell_type": "code",
      "execution_count": null,
      "metadata": {
        "id": "4H6JOQXqcKOd"
      },
      "outputs": [],
      "source": [
        "soup = BeautifulSoup(html_data, \"html.parser\")"
      ]
    },
    {
      "cell_type": "markdown",
      "metadata": {
        "id": "teI6bkNrcKOd"
      },
      "source": [
        "Using `BeautifulSoup` or the `read_html` function extract the table with `Tesla Revenue` and store it into a dataframe named `tesla_revenue`. The dataframe should have columns `Date` and `Revenue`.\n"
      ]
    },
    {
      "cell_type": "markdown",
      "metadata": {
        "id": "DRCJJZcqcKOd"
      },
      "source": [
        "<details><summary>Step-by-step instructions</summary>\n",
        "\n",
        "```\n",
        "\n",
        "Here are the step-by-step instructions:\n",
        "\n",
        "1. Create an Empty DataFrame\n",
        "2. Find the Relevant Table\n",
        "3. Check for the Tesla Quarterly Revenue Table\n",
        "4. Iterate Through Rows in the Table Body\n",
        "5. Extract Data from Columns\n",
        "6. Append Data to the DataFrame\n",
        "\n",
        "```\n",
        "</details>\n"
      ]
    },
    {
      "cell_type": "markdown",
      "metadata": {
        "id": "nFT3QbfecKOd"
      },
      "source": [
        "<details><summary>Click here if you need help locating the table</summary>\n",
        "\n",
        "```\n",
        "    \n",
        "Below is the code to isolate the table, you will now need to loop through the rows and columns like in the previous lab\n",
        "    \n",
        "soup.find_all(\"tbody\")[1]\n",
        "    \n",
        "If you want to use the read_html function the table is located at index 1\n",
        "\n",
        "We are focusing on quarterly revenue in the lab.\n",
        "```\n",
        "\n",
        "</details>\n"
      ]
    },
    {
      "cell_type": "code",
      "execution_count": null,
      "metadata": {
        "id": "mBwKkLH_cKOd"
      },
      "outputs": [],
      "source": [
        "# Step 1: Create an empty DataFrame\n",
        "tesla_revenue = pd.DataFrame(columns=['Date', 'Revenue'])"
      ]
    },
    {
      "cell_type": "code",
      "execution_count": null,
      "metadata": {
        "id": "k930okIicKOd"
      },
      "outputs": [],
      "source": [
        "# Step 2: Find all tables with the class 'historical_data_table table'\n",
        "tables = soup.find_all('table', class_='historical_data_table table')"
      ]
    },
    {
      "cell_type": "code",
      "execution_count": null,
      "metadata": {
        "id": "kPfN4Vj6cKOe"
      },
      "outputs": [],
      "source": [
        "# Step 3: Identify the quarterly revenue table by header text\n",
        "target_table = None\n",
        "for table in tables:\n",
        "    header = table.find('th')\n",
        "    if header:\n",
        "        header_text = header.get_text(strip=True)\n",
        "        # Check if \"Quarterly\" is in the header text to distinguish from Annual\n",
        "        if \"TeslaQuarterlyRevenue\" in header_text.replace(\" \", \"\"):\n",
        "            target_table = table\n",
        "            break"
      ]
    },
    {
      "cell_type": "code",
      "execution_count": null,
      "metadata": {
        "id": "9IGMhMWlcKOe"
      },
      "outputs": [],
      "source": [
        "# Step 4: Check if the table was found\n",
        "if target_table:\n",
        "    # Step 5: Extract data from the table body\n",
        "    rows = target_table.find('tbody').find_all('tr')\n",
        "    for row in rows:\n",
        "        cells = row.find_all('td')\n",
        "        if len(cells) == 2:  # Ensure two columns: Date and Revenue\n",
        "            date = cells[0].text.strip()\n",
        "            revenue = cells[1].text.strip()\n",
        "            if revenue:  # Skip rows with empty revenue\n",
        "                tesla_revenue = pd.concat(\n",
        "                    [tesla_revenue, pd.DataFrame({'Date': [date], 'Revenue': [revenue]})],\n",
        "                    ignore_index=True\n",
        "                )\n",
        "else:\n",
        "    print(\"Tesla Quarterly Revenue table not found.\")\n",
        "    exit()"
      ]
    },
    {
      "cell_type": "markdown",
      "metadata": {
        "id": "5GpnedYqcKOe"
      },
      "source": [
        "Execute the following line to remove the comma and dollar sign from the `Revenue` column.\n"
      ]
    },
    {
      "cell_type": "code",
      "execution_count": null,
      "metadata": {
        "id": "NNN66uXncKOe"
      },
      "outputs": [],
      "source": [
        "# Clean the Revenue column more robustly\n",
        "tesla_revenue['Revenue'] = tesla_revenue['Revenue'].str.replace('$', '', regex=False).str.replace(',', '', regex=False)"
      ]
    },
    {
      "cell_type": "code",
      "execution_count": null,
      "metadata": {
        "id": "Jd2btd_ocKOe"
      },
      "outputs": [],
      "source": [
        "# Convert Revenue to numeric type, coercing errors to NaN\n",
        "tesla_revenue['Revenue'] = pd.to_numeric(tesla_revenue['Revenue'], errors='coerce')"
      ]
    },
    {
      "cell_type": "markdown",
      "metadata": {
        "id": "S9KnKXzicKOe"
      },
      "source": [
        "Execute the following lines to remove an null or empty strings in the Revenue column.\n"
      ]
    },
    {
      "cell_type": "code",
      "execution_count": null,
      "metadata": {
        "id": "qyYFF9fbcKOe"
      },
      "outputs": [],
      "source": [
        "# Remove any rows where Revenue is NaN\n",
        "tesla_revenue.dropna(subset=['Revenue'], inplace=True)\n",
        "\n",
        "# Remove empty strings (already handled by pd.to_numeric, but kept for consistency)\n",
        "tesla_revenue = tesla_revenue[tesla_revenue['Revenue'] != \"\"]"
      ]
    },
    {
      "cell_type": "markdown",
      "metadata": {
        "id": "mNWvd1IAcKOe"
      },
      "source": [
        "Display the last 5 row of the `tesla_revenue` dataframe using the `tail` function. Take a screenshot of the results.\n"
      ]
    },
    {
      "cell_type": "code",
      "execution_count": null,
      "metadata": {
        "id": "DNbVyTbwcKOh",
        "outputId": "f4fa9e07-c33e-4503-c9d7-7e96ca1771cc"
      },
      "outputs": [
        {
          "name": "stdout",
          "output_type": "stream",
          "text": [
            "          Date  Revenue\n",
            "48  2010-09-30       31\n",
            "49  2010-06-30       28\n",
            "50  2010-03-31       21\n",
            "51  2009-09-30       46\n",
            "52  2009-06-30       27\n"
          ]
        }
      ],
      "source": [
        "# Display the first few rows to verify\n",
        "print(tesla_revenue.tail())"
      ]
    },
    {
      "cell_type": "markdown",
      "metadata": {
        "id": "JmurYOBkcKOh"
      },
      "source": [
        "## Question 3: Use yfinance to Extract Stock Data\n"
      ]
    },
    {
      "cell_type": "markdown",
      "metadata": {
        "id": "ZwdldUdUcKOi"
      },
      "source": [
        "Using the `Ticker` function enter the ticker symbol of the stock we want to extract data on to create a ticker object. The stock is GameStop and its ticker symbol is `GME`.\n"
      ]
    },
    {
      "cell_type": "code",
      "execution_count": null,
      "metadata": {
        "id": "L3YNchITcKOi"
      },
      "outputs": [],
      "source": [
        "# Create a ticker object for GameStop\n",
        "gamestop = yf.Ticker(\"GME\")"
      ]
    },
    {
      "cell_type": "code",
      "execution_count": null,
      "metadata": {
        "id": "ncVBpqeDcKOi"
      },
      "outputs": [],
      "source": [
        "# Extract historical stock data with period=\"max\"\n",
        "gme_data = gamestop.history(period=\"max\")"
      ]
    },
    {
      "cell_type": "markdown",
      "metadata": {
        "id": "5oAZh22fcKOi"
      },
      "source": [
        "Using the ticker object and the function `history` extract stock information and save it in a dataframe named `gme_data`. Set the `period` parameter to ` \"max\" ` so we get information for the maximum amount of time.\n"
      ]
    },
    {
      "cell_type": "markdown",
      "metadata": {
        "id": "V5lXRcR5cKOi"
      },
      "source": [
        "**Reset the index** using the `reset_index(inplace=True)` function on the gme_data DataFrame and display the first five rows of the `gme_data` dataframe using the `head` function. Take a screenshot of the results and code from the beginning of Question 3 to the results below.\n"
      ]
    },
    {
      "cell_type": "code",
      "execution_count": null,
      "metadata": {
        "id": "9cJ9zrQmcKOi"
      },
      "outputs": [],
      "source": [
        "# Reset the index of the DataFrame to make 'Date' a regular column\n",
        "gme_data.reset_index(inplace=True)"
      ]
    },
    {
      "cell_type": "code",
      "execution_count": null,
      "metadata": {
        "id": "xtHpFrOWcKOi",
        "outputId": "2aed34ec-8182-4233-cbd4-f372c52b4586"
      },
      "outputs": [
        {
          "name": "stdout",
          "output_type": "stream",
          "text": [
            "                       Date      Open      High       Low     Close    Volume  \\\n",
            "0 2002-02-13 00:00:00-05:00  1.620128  1.693350  1.603296  1.691667  76216000   \n",
            "1 2002-02-14 00:00:00-05:00  1.712707  1.716073  1.670626  1.683250  11021600   \n",
            "2 2002-02-15 00:00:00-05:00  1.683250  1.687458  1.658001  1.674834   8389600   \n",
            "3 2002-02-19 00:00:00-05:00  1.666418  1.666418  1.578047  1.607504   7410400   \n",
            "4 2002-02-20 00:00:00-05:00  1.615920  1.662209  1.603296  1.662209   6892800   \n",
            "\n",
            "   Dividends  Stock Splits  \n",
            "0        0.0           0.0  \n",
            "1        0.0           0.0  \n",
            "2        0.0           0.0  \n",
            "3        0.0           0.0  \n",
            "4        0.0           0.0  \n"
          ]
        }
      ],
      "source": [
        "# Display the first five rows of the DataFrame\n",
        "print(gme_data.head())"
      ]
    },
    {
      "cell_type": "markdown",
      "metadata": {
        "id": "KMZkOcwdcKOi"
      },
      "source": [
        "## Question 4: Use Webscraping to Extract GME Revenue Data\n"
      ]
    },
    {
      "cell_type": "markdown",
      "metadata": {
        "id": "dKAdu9v1cKOi"
      },
      "source": [
        "Use the `requests` library to download the webpage https://cf-courses-data.s3.us.cloud-object-storage.appdomain.cloud/IBMDeveloperSkillsNetwork-PY0220EN-SkillsNetwork/labs/project/stock.html. Save the text of the response as a variable named `html_data_2`.\n"
      ]
    },
    {
      "cell_type": "code",
      "execution_count": null,
      "metadata": {
        "id": "wdC7SR0ncKOi"
      },
      "outputs": [],
      "source": [
        "url = \"https://cf-courses-data.s3.us.cloud-object-storage.appdomain.cloud/IBMDeveloperSkillsNetwork-PY0220EN-SkillsNetwork/labs/project/stock.html\"\n",
        "\n",
        "html_data_2 = requests.get(url).text"
      ]
    },
    {
      "cell_type": "markdown",
      "metadata": {
        "id": "9ZPyKR0ecKOj"
      },
      "source": [
        "Parse the html data using `beautiful_soup` using parser i.e `html5lib` or `html.parser`.\n"
      ]
    },
    {
      "cell_type": "code",
      "execution_count": null,
      "metadata": {
        "id": "pE9LNDE4cKOj"
      },
      "outputs": [],
      "source": [
        "# Step 1: Parse the HTML content\n",
        "soup2 = BeautifulSoup(html_data_2, 'html.parser')"
      ]
    },
    {
      "cell_type": "markdown",
      "metadata": {
        "id": "03-zZ3BWcKOj"
      },
      "source": [
        "Using `BeautifulSoup` or the `read_html` function extract the table with `GameStop Revenue` and store it into a dataframe named `gme_revenue`. The dataframe should have columns `Date` and `Revenue`. Make sure the comma and dollar sign is removed from the `Revenue` column.\n"
      ]
    },
    {
      "cell_type": "markdown",
      "metadata": {
        "id": "tnnwqYFHcKOj"
      },
      "source": [
        "> **Note: Use the method similar to what you did in question 2.**  \n"
      ]
    },
    {
      "cell_type": "markdown",
      "metadata": {
        "id": "sxXxS5y3cKOj"
      },
      "source": [
        "<details><summary>Click here if you need help locating the table</summary>\n",
        "\n",
        "```\n",
        "    \n",
        "Below is the code to isolate the table, you will now need to loop through the rows and columns like in the previous lab\n",
        "    \n",
        "soup.find_all(\"tbody\")[1]\n",
        "    \n",
        "If you want to use the read_html function the table is located at index 1\n",
        "\n",
        "\n",
        "```\n",
        "\n",
        "</details>\n"
      ]
    },
    {
      "cell_type": "code",
      "execution_count": null,
      "metadata": {
        "id": "U-lykU5FcKOj"
      },
      "outputs": [],
      "source": [
        "gme_revenue = pd.DataFrame(columns=['Date', 'Revenue'])"
      ]
    },
    {
      "cell_type": "code",
      "execution_count": null,
      "metadata": {
        "id": "RMFttNNacKOj",
        "outputId": "14d0d30b-aa71-4423-d48c-b106d03fe3e4"
      },
      "outputs": [
        {
          "name": "stdout",
          "output_type": "stream",
          "text": [
            "Number of tables found: 4\n"
          ]
        }
      ],
      "source": [
        "# Step 2: Find all tables with the specified class\n",
        "gme_tables = soup2.find_all('table', class_='historical_data_table table')\n",
        "print(f\"Number of tables found: {len(gme_tables)}\")  # Debug: Verify tables are retrieved"
      ]
    },
    {
      "cell_type": "code",
      "execution_count": null,
      "metadata": {
        "id": "zXVddfG6cKOj",
        "outputId": "f71b4402-41ce-4d7f-ae78-f8fade70e2dc"
      },
      "outputs": [
        {
          "name": "stdout",
          "output_type": "stream",
          "text": [
            "Checking header: gamestop annual revenue(millions of us $)\n",
            "Checking header: gamestop quarterly revenue(millions of us $)\n"
          ]
        }
      ],
      "source": [
        "# Step 3: Identify the quarterly revenue table\n",
        "target_table2 = None\n",
        "for table in gme_tables:\n",
        "    header = table.find('th')  # Find the first header cell\n",
        "    if header:\n",
        "        header_text = header.get_text(strip=True).lower()  # Normalize text\n",
        "        print(f\"Checking header: {header_text}\")  # Debug: Show header being checked\n",
        "        # Check for presence of \"quarterly\" and \"revenue\" in the header\n",
        "        if \"quarterly\" in header_text and \"revenue\" in header_text:\n",
        "            target_table2 = table\n",
        "            break"
      ]
    },
    {
      "cell_type": "code",
      "execution_count": null,
      "metadata": {
        "id": "W1QrZygccKOj"
      },
      "outputs": [],
      "source": [
        "# Clean the Revenue column more robustly\n",
        "gme_revenue['Revenue'] = gme_revenue['Revenue'].str.replace('$', '', regex=False).str.replace(',', '', regex=False)"
      ]
    },
    {
      "cell_type": "code",
      "execution_count": null,
      "metadata": {
        "id": "Qi0w1R-8cKOk"
      },
      "outputs": [],
      "source": [
        "# Convert Revenue to numeric type, coercing errors to NaN\n",
        "gme_revenue['Revenue'] = pd.to_numeric(gme_revenue['Revenue'], errors='coerce')"
      ]
    },
    {
      "cell_type": "code",
      "execution_count": null,
      "metadata": {
        "id": "nm4989CDcKOk",
        "outputId": "000b3ca9-13dc-4415-9d28-fd22d027a1ca"
      },
      "outputs": [
        {
          "name": "stdout",
          "output_type": "stream",
          "text": [
            "GameStop Quarterly Revenue Data:\n",
            "         Date Revenue\n",
            "0  2020-04-30  $1,021\n",
            "1  2020-01-31  $2,194\n",
            "2  2019-10-31  $1,439\n",
            "3  2019-07-31  $1,286\n",
            "4  2019-04-30  $1,548\n"
          ]
        }
      ],
      "source": [
        "# Step 4: Process the table or handle the error\n",
        "if target_table2:\n",
        "    # Step 5: Extract data from the table\n",
        "    rows = target_table2.find('tbody').find_all('tr')  # Get all rows from table body\n",
        "    for row in rows:\n",
        "        cells = row.find_all('td')\n",
        "        if len(cells) == 2:  # Ensure row has Date and Revenue columns\n",
        "            date = cells[0].text.strip()\n",
        "            revenue = cells[1].text.strip()\n",
        "            if revenue:  # Only add rows with revenue data\n",
        "                gme_revenue = pd.concat(\n",
        "                    [gme_revenue, pd.DataFrame({'Date': [date], 'Revenue': [revenue]})],\n",
        "                    ignore_index=True\n",
        "                )\n",
        "    # Display the result\n",
        "    if not gme_revenue.empty:\n",
        "        print(\"GameStop Quarterly Revenue Data:\")\n",
        "        print(gme_revenue.head())\n",
        "    else:\n",
        "        print(\"No valid revenue data found in the table.\")\n",
        "else:\n",
        "    print(\"GameStop Quarterly Revenue table not found.\")\n",
        "    # Debug: Show all available table headers\n",
        "    for table in gme_tables:\n",
        "        header = table.find('th')\n",
        "        if header:\n",
        "            print(f\"Available header: {header.get_text(strip=True)}\")"
      ]
    },
    {
      "cell_type": "markdown",
      "metadata": {
        "id": "DHlsasIjcKOk"
      },
      "source": [
        "Display the last five rows of the `gme_revenue` dataframe using the `tail` function. Take a screenshot of the results.\n"
      ]
    },
    {
      "cell_type": "code",
      "execution_count": null,
      "metadata": {
        "id": "RQKgitt0cKOk"
      },
      "outputs": [],
      "source": [
        "print(gme_revenue.tail())"
      ]
    },
    {
      "cell_type": "markdown",
      "metadata": {
        "id": "MN8UnwJwcKOk"
      },
      "source": [
        "## Question 5: Plot Tesla Stock Graph\n"
      ]
    },
    {
      "cell_type": "markdown",
      "metadata": {
        "id": "vGmR0ePbcKOk"
      },
      "source": [
        "Use the `make_graph` function to graph the Tesla Stock Data, also provide a title for the graph. Note the graph will only show data upto June 2021.\n"
      ]
    },
    {
      "cell_type": "markdown",
      "metadata": {
        "id": "0Of_XOuAcKOk"
      },
      "source": [
        "<details><summary>Hint</summary>\n",
        "\n",
        "```\n",
        "\n",
        "You just need to invoke the make_graph function with the required parameter to print the graphs.The structure to call the `make_graph` function is `make_graph(tesla_data, tesla_revenue, 'Tesla')`.\n",
        "\n",
        "```\n",
        "    \n",
        "</details>\n"
      ]
    },
    {
      "cell_type": "code",
      "execution_count": null,
      "metadata": {
        "id": "CAJmW5KncKOk"
      },
      "outputs": [],
      "source": [
        "make_graph(tesla_data, tesla_revenue, 'Tesla')"
      ]
    },
    {
      "cell_type": "markdown",
      "metadata": {
        "id": "mH_NUmQPcKOk"
      },
      "source": [
        "## Question 6: Plot GameStop Stock Graph\n"
      ]
    },
    {
      "cell_type": "markdown",
      "metadata": {
        "id": "k1irR9eRcKOk"
      },
      "source": [
        "Use the `make_graph` function to graph the GameStop Stock Data, also provide a title for the graph. The structure to call the `make_graph` function is `make_graph(gme_data, gme_revenue, 'GameStop')`. Note the graph will only show data upto June 2021.\n"
      ]
    },
    {
      "cell_type": "markdown",
      "metadata": {
        "id": "Y0N9FKBAcKOk"
      },
      "source": [
        "<details><summary>Hint</summary>\n",
        "\n",
        "```\n",
        "\n",
        "You just need to invoke the make_graph function with the required parameter to print the graphs.The structure to call the `make_graph` function is `make_graph(gme_data, gme_revenue, 'GameStop')`\n",
        "\n",
        "```\n",
        "    \n",
        "</details>\n"
      ]
    },
    {
      "cell_type": "code",
      "execution_count": null,
      "metadata": {
        "id": "6d3EPYtmcKOk"
      },
      "outputs": [],
      "source": [
        "make_graph(historical_data, gme_revenue, 'GameStop')"
      ]
    },
    {
      "cell_type": "markdown",
      "metadata": {
        "id": "bmCWZyRPcKOk"
      },
      "source": [
        "<h2>About the Authors:</h2>\n",
        "\n",
        "<a href=\"https://www.linkedin.com/in/joseph-s-50398b136/\">Joseph Santarcangelo</a> has a PhD in Electrical Engineering, his research focused on using machine learning, signal processing, and computer vision to determine how videos impact human cognition. Joseph has been working for IBM since he completed his PhD.\n",
        "\n",
        "Azim Hirjani\n"
      ]
    },
    {
      "cell_type": "markdown",
      "metadata": {
        "id": "Y7f97iIJcKOk"
      },
      "source": [
        "## Change Log\n",
        "\n",
        "| Date (YYYY-MM-DD) | Version | Changed By    | Change Description        |\n",
        "| ----------------- | ------- | ------------- | ------------------------- |\n",
        "| 2022-02-28        | 1.2     | Lakshmi Holla | Changed the URL of GameStop |\n",
        "| 2020-11-10        | 1.1     | Malika Singla | Deleted the Optional part |\n",
        "| 2020-08-27        | 1.0     | Malika Singla | Added lab to GitLab       |\n",
        "\n",
        "<hr>\n",
        "\n",
        "## <h3 align=\"center\"> © IBM Corporation 2020. All rights reserved. <h3/>\n",
        "\n",
        "<p>\n"
      ]
    }
  ],
  "metadata": {
    "kernelspec": {
      "display_name": "Python 3 (ipykernel)",
      "language": "python",
      "name": "python3"
    },
    "language_info": {
      "codemirror_mode": {
        "name": "ipython",
        "version": 3
      },
      "file_extension": ".py",
      "mimetype": "text/x-python",
      "name": "python",
      "nbconvert_exporter": "python",
      "pygments_lexer": "ipython3",
      "version": "3.12.8"
    },
    "prev_pub_hash": "847bbe99ddd9f2dc606aa9f731e386824fa521d0c7e38672c5f080f5d71a8326",
    "colab": {
      "provenance": [],
      "include_colab_link": true
    }
  },
  "nbformat": 4,
  "nbformat_minor": 0
}